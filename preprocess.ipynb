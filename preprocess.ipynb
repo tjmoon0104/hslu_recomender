{
 "cells": [
  {
   "cell_type": "code",
   "execution_count": 1,
   "id": "c512d9ce-ec05-4e7f-b027-2d65888c1c63",
   "metadata": {
    "pycharm": {
     "name": "#%%\n"
    }
   },
   "outputs": [],
   "source": [
    "import pandas as pd\n",
    "import numpy as np\n",
    "from copy import copy\n",
    "\n",
    "from recommender.data_processing import map_column, get_context\n",
    "from recommender.training import Dataset\n",
    "from recommender.models import Recommender\n",
    "\n",
    "from torch.utils.data import DataLoader\n",
    "from pytorch_lightning.loggers import TensorBoardLogger\n",
    "from pytorch_lightning.callbacks import ModelCheckpoint\n",
    "\n",
    "import pytorch_lightning as pl\n",
    "from sklearn.model_selection import train_test_split"
   ]
  },
  {
   "cell_type": "code",
   "execution_count": 2,
   "id": "ed6711a6-5104-41af-87e5-610ec2e1eabe",
   "metadata": {
    "pycharm": {
     "name": "#%%\n"
    }
   },
   "outputs": [],
   "source": [
    "df = pd.read_csv('data/train.csv')\n",
    "df.sort_values(by='ts_listen', inplace=True)"
   ]
  },
  {
   "cell_type": "code",
   "execution_count": 3,
   "id": "4d5662fa-0d69-4a53-bcca-a17b704a4a39",
   "metadata": {
    "pycharm": {
     "name": "#%%\n"
    }
   },
   "outputs": [],
   "source": [
    "sample_size = 100\n",
    "sample_id = np.sort(df.user_id.unique())[:sample_size].tolist()\n",
    "sample_data = copy(df.query(f\"user_id=={sample_id}\"))\n",
    "sample_data, sample_mapping, sample_inverse_mapping = map_column(sample_data, col_name=\"media_id\")\n",
    "\n",
    "gb = sample_data.groupby(by=\"user_id\")"
   ]
  },
  {
   "cell_type": "code",
   "execution_count": 4,
   "id": "78ad33f4-41fa-4979-9aa6-10850ce861d4",
   "metadata": {
    "pycharm": {
     "name": "#%%\n"
    }
   },
   "outputs": [],
   "source": [
    "train_list, test_list = [], []\n",
    "\n",
    "# Sampling based on user and split 80:20 by sorted 'ts_listen'\n",
    "\n",
    "for group in list(gb.groups):\n",
    "    df_group = gb.get_group(group)\n",
    "    train_group, test_group = train_test_split(df_group, test_size=0.2, random_state=0, shuffle=False)\n",
    "    train_list.append(train_group)\n",
    "    test_list.append(test_group)"
   ]
  },
  {
   "cell_type": "code",
   "execution_count": 5,
   "id": "2450c021-7710-4e14-b99a-bbb3f2b3662e",
   "metadata": {
    "pycharm": {
     "name": "#%%\n"
    }
   },
   "outputs": [],
   "source": [
    "train = pd.concat(train_list)\n",
    "test = pd.concat(test_list)"
   ]
  },
  {
   "cell_type": "code",
   "execution_count": 6,
   "id": "a670a90d-2eed-4704-a501-66c9340d1d90",
   "metadata": {
    "pycharm": {
     "name": "#%%\n"
    }
   },
   "outputs": [],
   "source": [
    "data_train = copy(train.query(\"is_listened==1\"))\n",
    "grp_by_train = data_train.groupby(by=\"user_id\")\n",
    "groups = list(grp_by_train.groups)"
   ]
  },
  {
   "cell_type": "code",
   "execution_count": 7,
   "id": "c2164f30-45fe-47f1-ac58-5721c5e06f22",
   "metadata": {
    "pycharm": {
     "name": "#%%\n"
    }
   },
   "outputs": [],
   "source": [
    "history_size = 120\n",
    "\n",
    "train_data = Dataset(\n",
    "    groups=groups,\n",
    "    grp_by=grp_by_train,\n",
    "    split=\"train\",\n",
    "    history_size=history_size,\n",
    ")"
   ]
  },
  {
   "cell_type": "code",
   "execution_count": 12,
   "id": "7b38b393-b300-41cb-b647-f7f4eee0a2fd",
   "metadata": {
    "pycharm": {
     "name": "#%%\n"
    }
   },
   "outputs": [],
   "source": [
    "batch_size = 32\n",
    "\n",
    "train_loader = DataLoader(\n",
    "    train_data,\n",
    "    batch_size=batch_size,\n",
    "    num_workers=0,\n",
    "    shuffle=False,\n",
    ")"
   ]
  },
  {
   "cell_type": "code",
   "execution_count": 13,
   "id": "f78f2152-612a-43b5-a7fe-fb937ecca4d5",
   "metadata": {
    "pycharm": {
     "name": "#%%\n"
    }
   },
   "outputs": [],
   "source": [
    "log_dir = \"recommender_logs\"\n",
    "model_dir = \"recommender_models\"\n",
    "# model_dir = \"recommender_models_cpu\"\n",
    "\n",
    "model = Recommender(\n",
    "    vocab_size=len(sample_mapping) + 2,\n",
    "    lr=1e-4,\n",
    "    dropout=0.3,\n",
    ")\n",
    "\n",
    "logger = TensorBoardLogger(\n",
    "    save_dir=log_dir,\n",
    ")\n",
    "\n",
    "checkpoint_callback = ModelCheckpoint(\n",
    "    monitor=\"valid_loss\",\n",
    "    mode=\"min\",\n",
    "    dirpath=model_dir,\n",
    "    filename=\"\",\n",
    ")"
   ]
  },
  {
   "cell_type": "code",
   "execution_count": 16,
   "id": "7865236f-633e-4cdc-b9e3-b74bc1aee272",
   "metadata": {
    "pycharm": {
     "name": "#%%\n"
    }
   },
   "outputs": [],
   "source": [
    "epochs = 100\n",
    "\n",
    "trainer = pl.Trainer(\n",
    "    max_epochs=epochs,\n",
    "    logger=logger,\n",
    "    # accelerator='gpu',\n",
    "    # devices=1,\n",
    "    callbacks=[checkpoint_callback],\n",
    ")\n",
    "\n",
    "trainer.fit(model, train_loader, train_loader)"
   ]
  },
  {
   "cell_type": "code",
   "execution_count": 15,
   "id": "f63c864f-ff02-4e94-8f32-33e916729f3c",
   "metadata": {
    "pycharm": {
     "name": "#%%\n"
    }
   },
   "outputs": [
    {
     "name": "stderr",
     "output_type": "stream",
     "text": [
      "/Users/moon/miniforge3/envs/python39cpu/lib/python3.9/site-packages/pytorch_lightning/trainer/trainer.py:1386: UserWarning: `.test(ckpt_path=None)` was called without a model. The best model of the previous `fit` call will be used. You can pass `.test(ckpt_path='best')` to use the best model or `.test(ckpt_path='last')` to use the last model. If you pass a value, this warning will be silenced.\n",
      "  rank_zero_warn(\n",
      "Restoring states from the checkpoint path at /Users/moon/HSLU/RecommenderSystem/recommender_models/epoch=85-step=344.ckpt\n",
      "Loaded model weights from checkpoint at /Users/moon/HSLU/RecommenderSystem/recommender_models/epoch=85-step=344.ckpt\n",
      "/Users/moon/miniforge3/envs/python39cpu/lib/python3.9/site-packages/pytorch_lightning/trainer/connectors/data_connector.py:236: PossibleUserWarning: The dataloader, test_dataloader 0, does not have many workers which may be a bottleneck. Consider increasing the value of the `num_workers` argument` (try 10 which is the number of cpus on this machine) in the `DataLoader` init to improve performance.\n",
      "  rank_zero_warn(\n"
     ]
    },
    {
     "data": {
      "text/plain": "Testing: 0it [00:00, ?it/s]",
      "application/vnd.jupyter.widget-view+json": {
       "version_major": 2,
       "version_minor": 0,
       "model_id": "827e5b0e76524e25ba2830c536b2d66b"
      }
     },
     "metadata": {},
     "output_type": "display_data"
    },
    {
     "name": "stdout",
     "output_type": "stream",
     "text": [
      "────────────────────────────────────────────────────────────────────────────────────────────────────────────────────────\n",
      "       Test metric             DataLoader 0\n",
      "────────────────────────────────────────────────────────────────────────────────────────────────────────────────────────\n",
      "      test_accuracy        0.0024678826328310864\n",
      "        test_loss            9.973223686218262\n",
      "────────────────────────────────────────────────────────────────────────────────────────────────────────────────────────\n",
      "{'val_loss': 9.973223686218262, 'best_model_path': '/Users/moon/HSLU/RecommenderSystem/recommender_models/epoch=85-step=344.ckpt'}\n"
     ]
    }
   ],
   "source": [
    "result_val = trainer.test(dataloaders=train_loader)\n",
    "\n",
    "output_json = {\n",
    "    \"val_loss\": result_val[0][\"test_loss\"],\n",
    "    \"best_model_path\": checkpoint_callback.best_model_path,\n",
    "}\n",
    "\n",
    "print(output_json)\n"
   ]
  },
  {
   "cell_type": "code",
   "execution_count": 20,
   "outputs": [
    {
     "data": {
      "text/plain": "         genre_id   ts_listen  media_id  album_id  context_type  release_date  \\\n1643346        10  1478522553    206493     40434             0      20070424   \n1643347        10  1478532067    206493     40434             0      20070424   \n\n         platform_name  platform_family  media_duration  listen_type  \\\n1643346              0                0             155            0   \n1643347              0                0             155            0   \n\n         user_gender  user_id  artist_id  user_age  is_listened  \\\n1643346            0       70       1503        25            1   \n1643347            0       70       1503        25            0   \n\n         media_id_mapped  \n1643346                8  \n1643347                8  ",
      "text/html": "<div>\n<style scoped>\n    .dataframe tbody tr th:only-of-type {\n        vertical-align: middle;\n    }\n\n    .dataframe tbody tr th {\n        vertical-align: top;\n    }\n\n    .dataframe thead th {\n        text-align: right;\n    }\n</style>\n<table border=\"1\" class=\"dataframe\">\n  <thead>\n    <tr style=\"text-align: right;\">\n      <th></th>\n      <th>genre_id</th>\n      <th>ts_listen</th>\n      <th>media_id</th>\n      <th>album_id</th>\n      <th>context_type</th>\n      <th>release_date</th>\n      <th>platform_name</th>\n      <th>platform_family</th>\n      <th>media_duration</th>\n      <th>listen_type</th>\n      <th>user_gender</th>\n      <th>user_id</th>\n      <th>artist_id</th>\n      <th>user_age</th>\n      <th>is_listened</th>\n      <th>media_id_mapped</th>\n    </tr>\n  </thead>\n  <tbody>\n    <tr>\n      <th>1643346</th>\n      <td>10</td>\n      <td>1478522553</td>\n      <td>206493</td>\n      <td>40434</td>\n      <td>0</td>\n      <td>20070424</td>\n      <td>0</td>\n      <td>0</td>\n      <td>155</td>\n      <td>0</td>\n      <td>0</td>\n      <td>70</td>\n      <td>1503</td>\n      <td>25</td>\n      <td>1</td>\n      <td>8</td>\n    </tr>\n    <tr>\n      <th>1643347</th>\n      <td>10</td>\n      <td>1478532067</td>\n      <td>206493</td>\n      <td>40434</td>\n      <td>0</td>\n      <td>20070424</td>\n      <td>0</td>\n      <td>0</td>\n      <td>155</td>\n      <td>0</td>\n      <td>0</td>\n      <td>70</td>\n      <td>1503</td>\n      <td>25</td>\n      <td>0</td>\n      <td>8</td>\n    </tr>\n  </tbody>\n</table>\n</div>"
     },
     "execution_count": 20,
     "metadata": {},
     "output_type": "execute_result"
    }
   ],
   "source": [
    "sample_data.query('media_id==206493')"
   ],
   "metadata": {
    "collapsed": false,
    "pycharm": {
     "name": "#%%\n"
    }
   }
  },
  {
   "cell_type": "code",
   "execution_count": 110,
   "outputs": [
    {
     "data": {
      "text/plain": "         genre_id  ts_listen  media_id  album_id  context_type  release_date  \\\nuser_id                                                                        \n0            6317       6317      6317      6317          6317          6317   \n1            6240       6240      6240      6240          6240          6240   \n2            6211       6211      6211      6211          6211          6211   \n3            5581       5581      5581      5581          5581          5581   \n4            5426       5426      5426      5426          5426          5426   \n...           ...        ...       ...       ...           ...           ...   \n95           3009       3009      3009      3009          3009          3009   \n96           3008       3008      3008      3008          3008          3008   \n97           2997       2997      2997      2997          2997          2997   \n98           2989       2989      2989      2989          2989          2989   \n99           2988       2988      2988      2988          2988          2988   \n\n         platform_name  platform_family  media_duration  listen_type  \\\nuser_id                                                                \n0                 6317             6317            6317         6317   \n1                 6240             6240            6240         6240   \n2                 6211             6211            6211         6211   \n3                 5581             5581            5581         5581   \n4                 5426             5426            5426         5426   \n...                ...              ...             ...          ...   \n95                3009             3009            3009         3009   \n96                3008             3008            3008         3008   \n97                2997             2997            2997         2997   \n98                2989             2989            2989         2989   \n99                2988             2988            2988         2988   \n\n         user_gender  artist_id  user_age  is_listened  media_id_mapped  \nuser_id                                                                  \n0               6317       6317      6317         6317             6317  \n1               6240       6240      6240         6240             6240  \n2               6211       6211      6211         6211             6211  \n3               5581       5581      5581         5581             5581  \n4               5426       5426      5426         5426             5426  \n...              ...        ...       ...          ...              ...  \n95              3009       3009      3009         3009             3009  \n96              3008       3008      3008         3008             3008  \n97              2997       2997      2997         2997             2997  \n98              2989       2989      2989         2989             2989  \n99              2988       2988      2988         2988             2988  \n\n[100 rows x 15 columns]",
      "text/html": "<div>\n<style scoped>\n    .dataframe tbody tr th:only-of-type {\n        vertical-align: middle;\n    }\n\n    .dataframe tbody tr th {\n        vertical-align: top;\n    }\n\n    .dataframe thead th {\n        text-align: right;\n    }\n</style>\n<table border=\"1\" class=\"dataframe\">\n  <thead>\n    <tr style=\"text-align: right;\">\n      <th></th>\n      <th>genre_id</th>\n      <th>ts_listen</th>\n      <th>media_id</th>\n      <th>album_id</th>\n      <th>context_type</th>\n      <th>release_date</th>\n      <th>platform_name</th>\n      <th>platform_family</th>\n      <th>media_duration</th>\n      <th>listen_type</th>\n      <th>user_gender</th>\n      <th>artist_id</th>\n      <th>user_age</th>\n      <th>is_listened</th>\n      <th>media_id_mapped</th>\n    </tr>\n    <tr>\n      <th>user_id</th>\n      <th></th>\n      <th></th>\n      <th></th>\n      <th></th>\n      <th></th>\n      <th></th>\n      <th></th>\n      <th></th>\n      <th></th>\n      <th></th>\n      <th></th>\n      <th></th>\n      <th></th>\n      <th></th>\n      <th></th>\n    </tr>\n  </thead>\n  <tbody>\n    <tr>\n      <th>0</th>\n      <td>6317</td>\n      <td>6317</td>\n      <td>6317</td>\n      <td>6317</td>\n      <td>6317</td>\n      <td>6317</td>\n      <td>6317</td>\n      <td>6317</td>\n      <td>6317</td>\n      <td>6317</td>\n      <td>6317</td>\n      <td>6317</td>\n      <td>6317</td>\n      <td>6317</td>\n      <td>6317</td>\n    </tr>\n    <tr>\n      <th>1</th>\n      <td>6240</td>\n      <td>6240</td>\n      <td>6240</td>\n      <td>6240</td>\n      <td>6240</td>\n      <td>6240</td>\n      <td>6240</td>\n      <td>6240</td>\n      <td>6240</td>\n      <td>6240</td>\n      <td>6240</td>\n      <td>6240</td>\n      <td>6240</td>\n      <td>6240</td>\n      <td>6240</td>\n    </tr>\n    <tr>\n      <th>2</th>\n      <td>6211</td>\n      <td>6211</td>\n      <td>6211</td>\n      <td>6211</td>\n      <td>6211</td>\n      <td>6211</td>\n      <td>6211</td>\n      <td>6211</td>\n      <td>6211</td>\n      <td>6211</td>\n      <td>6211</td>\n      <td>6211</td>\n      <td>6211</td>\n      <td>6211</td>\n      <td>6211</td>\n    </tr>\n    <tr>\n      <th>3</th>\n      <td>5581</td>\n      <td>5581</td>\n      <td>5581</td>\n      <td>5581</td>\n      <td>5581</td>\n      <td>5581</td>\n      <td>5581</td>\n      <td>5581</td>\n      <td>5581</td>\n      <td>5581</td>\n      <td>5581</td>\n      <td>5581</td>\n      <td>5581</td>\n      <td>5581</td>\n      <td>5581</td>\n    </tr>\n    <tr>\n      <th>4</th>\n      <td>5426</td>\n      <td>5426</td>\n      <td>5426</td>\n      <td>5426</td>\n      <td>5426</td>\n      <td>5426</td>\n      <td>5426</td>\n      <td>5426</td>\n      <td>5426</td>\n      <td>5426</td>\n      <td>5426</td>\n      <td>5426</td>\n      <td>5426</td>\n      <td>5426</td>\n      <td>5426</td>\n    </tr>\n    <tr>\n      <th>...</th>\n      <td>...</td>\n      <td>...</td>\n      <td>...</td>\n      <td>...</td>\n      <td>...</td>\n      <td>...</td>\n      <td>...</td>\n      <td>...</td>\n      <td>...</td>\n      <td>...</td>\n      <td>...</td>\n      <td>...</td>\n      <td>...</td>\n      <td>...</td>\n      <td>...</td>\n    </tr>\n    <tr>\n      <th>95</th>\n      <td>3009</td>\n      <td>3009</td>\n      <td>3009</td>\n      <td>3009</td>\n      <td>3009</td>\n      <td>3009</td>\n      <td>3009</td>\n      <td>3009</td>\n      <td>3009</td>\n      <td>3009</td>\n      <td>3009</td>\n      <td>3009</td>\n      <td>3009</td>\n      <td>3009</td>\n      <td>3009</td>\n    </tr>\n    <tr>\n      <th>96</th>\n      <td>3008</td>\n      <td>3008</td>\n      <td>3008</td>\n      <td>3008</td>\n      <td>3008</td>\n      <td>3008</td>\n      <td>3008</td>\n      <td>3008</td>\n      <td>3008</td>\n      <td>3008</td>\n      <td>3008</td>\n      <td>3008</td>\n      <td>3008</td>\n      <td>3008</td>\n      <td>3008</td>\n    </tr>\n    <tr>\n      <th>97</th>\n      <td>2997</td>\n      <td>2997</td>\n      <td>2997</td>\n      <td>2997</td>\n      <td>2997</td>\n      <td>2997</td>\n      <td>2997</td>\n      <td>2997</td>\n      <td>2997</td>\n      <td>2997</td>\n      <td>2997</td>\n      <td>2997</td>\n      <td>2997</td>\n      <td>2997</td>\n      <td>2997</td>\n    </tr>\n    <tr>\n      <th>98</th>\n      <td>2989</td>\n      <td>2989</td>\n      <td>2989</td>\n      <td>2989</td>\n      <td>2989</td>\n      <td>2989</td>\n      <td>2989</td>\n      <td>2989</td>\n      <td>2989</td>\n      <td>2989</td>\n      <td>2989</td>\n      <td>2989</td>\n      <td>2989</td>\n      <td>2989</td>\n      <td>2989</td>\n    </tr>\n    <tr>\n      <th>99</th>\n      <td>2988</td>\n      <td>2988</td>\n      <td>2988</td>\n      <td>2988</td>\n      <td>2988</td>\n      <td>2988</td>\n      <td>2988</td>\n      <td>2988</td>\n      <td>2988</td>\n      <td>2988</td>\n      <td>2988</td>\n      <td>2988</td>\n      <td>2988</td>\n      <td>2988</td>\n      <td>2988</td>\n    </tr>\n  </tbody>\n</table>\n<p>100 rows × 15 columns</p>\n</div>"
     },
     "execution_count": 110,
     "metadata": {},
     "output_type": "execute_result"
    }
   ],
   "source": [
    "sample_data.groupby('user_id').count()"
   ],
   "metadata": {
    "collapsed": false,
    "pycharm": {
     "name": "#%%\n"
    }
   }
  },
  {
   "cell_type": "code",
   "execution_count": 75,
   "outputs": [],
   "source": [
    "list_medias = data_train.query('user_id==0')['media_id'].values.tolist()[-100:]"
   ],
   "metadata": {
    "collapsed": false,
    "pycharm": {
     "name": "#%%\n"
    }
   }
  },
  {
   "cell_type": "code",
   "execution_count": 80,
   "outputs": [
    {
     "data": {
      "text/plain": "(80, 20, 100)"
     },
     "execution_count": 80,
     "metadata": {},
     "output_type": "execute_result"
    }
   ],
   "source": [
    "len(list_medias[:80]), len(list_medias[-20:]), len(list_medias)"
   ],
   "metadata": {
    "collapsed": false,
    "pycharm": {
     "name": "#%%\n"
    }
   }
  },
  {
   "cell_type": "code",
   "execution_count": 84,
   "outputs": [
    {
     "data": {
      "text/plain": "(7024835, 7024835)"
     },
     "execution_count": 84,
     "metadata": {},
     "output_type": "execute_result"
    }
   ],
   "source": [
    "list_medias[:80][-1], list_medias[79]"
   ],
   "metadata": {
    "collapsed": false,
    "pycharm": {
     "name": "#%%\n"
    }
   }
  },
  {
   "cell_type": "code",
   "execution_count": 85,
   "id": "8837b246-dc15-460c-a755-7b1e881a844a",
   "metadata": {
    "pycharm": {
     "name": "#%%\n"
    }
   },
   "outputs": [],
   "source": [
    "import torch\n",
    "\n",
    "PAD = 0\n",
    "MASK = 1\n",
    "\n",
    "# list_medias = []\n",
    "\n",
    "ids = [PAD] * (120 - len(list_medias[:80]) - 1) + [sample_mapping[a] for a in list_medias[:80]] + [MASK]\n",
    "\n",
    "# ids = [PAD] * (120 - 1 - 1) + [sample_mapping[206493]] + [MASK]\n",
    "\n",
    "src = torch.tensor(ids, dtype=torch.long).unsqueeze(0)"
   ]
  },
  {
   "cell_type": "code",
   "execution_count": 86,
   "id": "f2d0ceb1-1f9e-4a27-b7de-cc19eda7c404",
   "metadata": {
    "pycharm": {
     "name": "#%%\n"
    }
   },
   "outputs": [],
   "source": [
    "with torch.no_grad():\n",
    "    prediction = model(src)"
   ]
  },
  {
   "cell_type": "code",
   "execution_count": 87,
   "id": "0372506d-dde5-4d6c-b58b-61d5b0092b4e",
   "metadata": {
    "pycharm": {
     "name": "#%%\n"
    }
   },
   "outputs": [],
   "source": [
    "masked_pred = prediction[0, -1].numpy()\n",
    "\n",
    "sorted_predicted_ids = np.argsort(masked_pred).tolist()[::-1]\n",
    "\n",
    "sorted_predicted_ids = [a for a in sorted_predicted_ids if a not in ids]\n",
    "\n",
    "# return [idx_to_movie[a] for a in sorted_predicted_ids[:30] if a in idx_to_movie]"
   ]
  },
  {
   "cell_type": "code",
   "execution_count": 104,
   "outputs": [
    {
     "data": {
      "text/plain": "[53496,\n 48658,\n 35909,\n 52684,\n 39334,\n 52678,\n 45669,\n 49871,\n 49220,\n 52671,\n 48085,\n 55795,\n 10252,\n 11774,\n 52680,\n 52922,\n 45497,\n 50664,\n 45646,\n 47984,\n 55791,\n 55201,\n 52670,\n 16945,\n 34303,\n 49610,\n 51716,\n 31712,\n 48366,\n 38990,\n 48416,\n 48381,\n 25103,\n 20802,\n 45581,\n 37889,\n 9784,\n 3979,\n 48269,\n 1803,\n 42573,\n 40383,\n 39094,\n 37272,\n 49600,\n 4642,\n 40562,\n 49238,\n 52673,\n 48412,\n 27741,\n 50593,\n 52672,\n 10192,\n 31934,\n 54604,\n 54246,\n 10017,\n 45296,\n 41025,\n 44285,\n 34565,\n 51343,\n 53953,\n 54792,\n 21096,\n 42383,\n 17721,\n 41850,\n 1163,\n 17601,\n 12979,\n 47734,\n 25436,\n 46065,\n 29550,\n 9484,\n 28553,\n 52084,\n 44099,\n 49084,\n 34145,\n 53483,\n 44546,\n 54049,\n 51298,\n 54999,\n 31684,\n 53391,\n 38510,\n 39233,\n 9400,\n 37698,\n 51685,\n 6753,\n 56192,\n 3769,\n 53414,\n 39741,\n 48657,\n 46507,\n 3976,\n 2256,\n 46943,\n 54818,\n 43215,\n 45698,\n 47953,\n 40990,\n 8442,\n 52681,\n 18963,\n 33299,\n 20912,\n 42293,\n 53890,\n 36330,\n 47624,\n 33478,\n 44457,\n 20063,\n 30997,\n 48257,\n 13081,\n 36888,\n 50004,\n 43379,\n 46783,\n 56190,\n 17586,\n 47507,\n 11694,\n 46440,\n 45780,\n 1534,\n 49763,\n 55792,\n 47425,\n 9982,\n 51810,\n 50274,\n 3148,\n 39916,\n 50527,\n 39026,\n 2692,\n 53222,\n 4119,\n 22234,\n 39929,\n 24360,\n 49230,\n 47821,\n 29922,\n 15845,\n 47765,\n 49619,\n 3048,\n 46191,\n 54744,\n 11509,\n 43473,\n 13654,\n 25583,\n 42613,\n 32468,\n 20409,\n 27695,\n 4017,\n 55014,\n 51293,\n 31586,\n 9169,\n 19180,\n 53451,\n 3772,\n 17506,\n 29336,\n 54752,\n 53468,\n 39190,\n 33558,\n 13446,\n 49624,\n 54707,\n 54888,\n 18930,\n 51182,\n 9384,\n 48315,\n 23977,\n 32586,\n 40991,\n 53226,\n 15816,\n 18875,\n 50599,\n 4259,\n 48420,\n 51157,\n 45785,\n 44847,\n 21251,\n 3727,\n 44761,\n 9959,\n 37135,\n 47884,\n 9920,\n 9253,\n 5912,\n 3665,\n 38009,\n 52293,\n 24661,\n 42711,\n 46266,\n 30937,\n 9460,\n 9480,\n 52697,\n 55218,\n 47302,\n 52685,\n 35635,\n 43753,\n 49070,\n 43139,\n 54043,\n 40307,\n 53554,\n 52682,\n 51023,\n 1438,\n 26971,\n 25751,\n 44199,\n 44439,\n 13734,\n 1783,\n 30546,\n 40231,\n 16752,\n 1541,\n 12976,\n 30499,\n 49478,\n 20897,\n 45509,\n 22976,\n 3532,\n 44283,\n 44755,\n 54587,\n 39533,\n 53399,\n 2139,\n 26447,\n 46975,\n 47449,\n 16557,\n 1687,\n 41797,\n 48411,\n 40753,\n 51604,\n 24201,\n 48193,\n 38514,\n 28717,\n 52952,\n 918,\n 54381,\n 50969,\n 4468,\n 4348,\n 39003,\n 34015,\n 3786,\n 44551,\n 35999,\n 2907,\n 9417,\n 7169,\n 10817,\n 29612,\n 46797,\n 52471,\n 35392,\n 8087,\n 44333,\n 50236,\n 45654,\n 3859,\n 53763,\n 44343,\n 31770,\n 8850,\n 25569,\n 33193,\n 43376,\n 45812,\n 44754,\n 40223,\n 32294,\n 8924,\n 52661,\n 56187,\n 54726,\n 47714,\n 12024,\n 3732,\n 41756,\n 7709,\n 53153,\n 53422,\n 37797,\n 24112,\n 56089,\n 50529,\n 36429,\n 32480,\n 54706,\n 5905,\n 54130,\n 28752,\n 21129,\n 36143,\n 40221,\n 40994,\n 18919,\n 18564,\n 22631,\n 37883,\n 26097,\n 45514,\n 6974,\n 30382,\n 46953,\n 35236,\n 52677,\n 16550,\n 25437,\n 12599,\n 54953,\n 7613,\n 26094,\n 51068,\n 54463,\n 54659,\n 52589,\n 5902,\n 34340,\n 46458,\n 44707,\n 9595,\n 10007,\n 9783,\n 40215,\n 42688,\n 34296,\n 50705,\n 47677,\n 5937,\n 13615,\n 14324,\n 513,\n 52140,\n 56197,\n 52110,\n 16420,\n 32205,\n 1788,\n 42777,\n 16556,\n 41522,\n 739,\n 40163,\n 32968,\n 29333,\n 7149,\n 28879,\n 43251,\n 38236,\n 42159,\n 52683,\n 43360,\n 20469,\n 47715,\n 51487,\n 16092,\n 16960,\n 38860,\n 7328,\n 16596,\n 10053,\n 48962,\n 11346,\n 49627,\n 32916,\n 51942,\n 27195,\n 41014,\n 1066,\n 34627,\n 47718,\n 24139,\n 27217,\n 8067,\n 28960,\n 11075,\n 51692,\n 30557,\n 16645,\n 43622,\n 53049,\n 7628,\n 47713,\n 19744,\n 25594,\n 1608,\n 25625,\n 52951,\n 15136,\n 34115,\n 22267,\n 8673,\n 2413,\n 48610,\n 53057,\n 14063,\n 31502,\n 34737,\n 25004,\n 46438,\n 51475,\n 27553,\n 51875,\n 20728,\n 43377,\n 51714,\n 11547,\n 37343,\n 55747,\n 55644,\n 44201,\n 29843,\n 24359,\n 8595,\n 32642,\n 22026,\n 42291,\n 22986,\n 54753,\n 11664,\n 13844,\n 49179,\n 41974,\n 21006,\n 39549,\n 35704,\n 16290,\n 55055,\n 41170,\n 34285,\n 16859,\n 49767,\n 20014,\n 45665,\n 45506,\n 41402,\n 38776,\n 33703,\n 16081,\n 3767,\n 22460,\n 25263,\n 38478,\n 32364,\n 48851,\n 37092,\n 32081,\n 52916,\n 43840,\n 52075,\n 19784,\n 30380,\n 52111,\n 42151,\n 38099,\n 43332,\n 41639,\n 49723,\n 11695,\n 38142,\n 48905,\n 46978,\n 29222,\n 20003,\n 31170,\n 46300,\n 48463,\n 38931,\n 46977,\n 35305,\n 39777,\n 50704,\n 44857,\n 21465,\n 4322,\n 10812,\n 35369,\n 35079,\n 39087,\n 53029,\n 25810,\n 19289,\n 13159,\n 1238,\n 38705,\n 25378,\n 11859,\n 23360,\n 44706,\n 47473,\n 49186,\n 37106,\n 38645,\n 8014,\n 1481,\n 23985,\n 29578,\n 38639,\n 53215,\n 10864,\n 49174,\n 25628,\n 46867,\n 15634,\n 25076,\n 5245,\n 43627,\n 49408,\n 49567,\n 44845,\n 41533,\n 16539,\n 46575,\n 30332,\n 29517,\n 24913,\n 53200,\n 54138,\n 42764,\n 52057,\n 30196,\n 52268,\n 48301,\n 49568,\n 52077,\n 18268,\n 20432,\n 53904,\n 3983,\n 17366,\n 29721,\n 45870,\n 26313,\n 52137,\n 47836,\n 45671,\n 35418,\n 49372,\n 11766,\n 5168,\n 37692,\n 56195,\n 8620,\n 52642,\n 1056,\n 23744,\n 28914,\n 2265,\n 28370,\n 37867,\n 48253,\n 34750,\n 39928,\n 1127,\n 13012,\n 48437,\n 41602,\n 23779,\n 47273,\n 1176,\n 21175,\n 28055,\n 54755,\n 28378,\n 56193,\n 37803,\n 393,\n 47725,\n 49622,\n 18700,\n 30775,\n 46818,\n 24443,\n 34126,\n 38372,\n 20072,\n 6555,\n 24564,\n 18009,\n 20238,\n 44368,\n 38165,\n 41280,\n 38736,\n 6586,\n 35074,\n 33545,\n 4120,\n 3084,\n 29291,\n 15984,\n 1866,\n 2278,\n 10118,\n 14757,\n 9707,\n 48856,\n 45570,\n 31581,\n 11347,\n 20392,\n 53518,\n 17443,\n 26423,\n 3333,\n 43356,\n 45341,\n 27349,\n 1714,\n 46917,\n 7727,\n 30490,\n 29331,\n 19825,\n 34401,\n 39532,\n 51850,\n 51690,\n 54582,\n 2088,\n 44721,\n 13847,\n 19201,\n 21229,\n 51332,\n 55808,\n 3855,\n 25562,\n 33900,\n 2586,\n 50783,\n 27479,\n 48282,\n 53337,\n 55043,\n 53023,\n 37618,\n 5568,\n 28157,\n 37809,\n 48258,\n 4557,\n 55636,\n 5242,\n 47595,\n 10443,\n 29344,\n 39412,\n 23772,\n 36470,\n 53467,\n 38082,\n 631,\n 48259,\n 46010,\n 7456,\n 3628,\n 27961,\n 476,\n 25460,\n 51324,\n 53528,\n 41112,\n 12813,\n 29575,\n 53510,\n 42586,\n 48200,\n 50793,\n 2410,\n 22359,\n 43065,\n 51868,\n 54899,\n 26817,\n 46353,\n 5001,\n 13749,\n 55615,\n 51664,\n 993,\n 19689,\n 18467,\n 48367,\n 54084,\n 5207,\n 30971,\n 4790,\n 30461,\n 56100,\n 13360,\n 50477,\n 45467,\n 19866,\n 20161,\n 56184,\n 53011,\n 11297,\n 33755,\n 6604,\n 11510,\n 37286,\n 51659,\n 15101,\n 30649,\n 49199,\n 40583,\n 14925,\n 2836,\n 44028,\n 49635,\n 52698,\n 32440,\n 17188,\n 30792,\n 55697,\n 55942,\n 46775,\n 20421,\n 29098,\n 42177,\n 26106,\n 6712,\n 54134,\n 2144,\n 49776,\n 1776,\n 30317,\n 34600,\n 51426,\n 55801,\n 53716,\n 39058,\n 11559,\n 4843,\n 6591,\n 50190,\n 32143,\n 10593,\n 54687,\n 52406,\n 10434,\n 25558,\n 29848,\n 49228,\n 54697,\n 43592,\n 2615,\n 49542,\n 34286,\n 10321,\n 49508,\n 13655,\n 19129,\n 51723,\n 23134,\n 2084,\n 32647,\n 14214,\n 44373,\n 23780,\n 52956,\n 52793,\n 23771,\n 37572,\n 30195,\n 44275,\n 42007,\n 17600,\n 3802,\n 24132,\n 49091,\n 54427,\n 39927,\n 48107,\n 38,\n 19719,\n 55341,\n 24448,\n 52674,\n 29267,\n 43654,\n 26539,\n 53514,\n 50357,\n 4145,\n 55800,\n 48708,\n 7063,\n 41055,\n 31804,\n 49417,\n 38930,\n 22018,\n 15353,\n 555,\n 52071,\n 7188,\n 39781,\n 51080,\n 13419,\n 55690,\n 56090,\n 51819,\n 43618,\n 6913,\n 29353,\n 12659,\n 18404,\n 49085,\n 39028,\n 6027,\n 37880,\n 35129,\n 21871,\n 32259,\n 48464,\n 9688,\n 56054,\n 36265,\n 689,\n 526,\n 2374,\n 34624,\n 36467,\n 53295,\n 26304,\n 19220,\n 56093,\n 41784,\n 38869,\n 22341,\n 763,\n 31711,\n 10559,\n 34204,\n 43623,\n 52043,\n 43801,\n 47759,\n 32301,\n 7216,\n 21842,\n 52424,\n 49295,\n 54012,\n 9432,\n 3300,\n 48329,\n 45771,\n 32207,\n 7532,\n 22602,\n 47770,\n 8574,\n 23299,\n 47845,\n 37622,\n 10205,\n 22909,\n 44532,\n 47280,\n 52178,\n 16558,\n 54583,\n 43200,\n 911,\n 44200,\n 22019,\n 2649,\n 43626,\n 4350,\n 3364,\n 39276,\n 46242,\n 53314,\n 48254,\n 42791,\n 16046,\n 20681,\n 18565,\n 55197,\n 1500,\n 52469,\n 50645,\n 40202,\n 38560,\n 26853,\n 47688,\n 46723,\n 39984,\n 29770,\n 44015,\n 15599,\n 8659,\n 25397,\n 10243,\n 29112,\n 14533,\n 15094,\n 42820,\n 13739,\n 44032,\n 10027,\n 39413,\n 10493,\n 42669,\n 3977,\n 55806,\n 54503,\n 34140,\n 49651,\n 18804,\n 28335,\n 3817,\n 4299,\n 34017,\n 10051,\n 51397,\n 34626,\n 53290,\n 48263,\n 54154,\n 11529,\n 13738,\n 47070,\n 11758,\n 51091,\n 32573,\n 56143,\n 37105,\n 28561,\n 6044,\n 49770,\n 52831,\n 15970,\n 50844,\n 48650,\n 49071,\n 44363,\n 2588,\n 53259,\n 50897,\n 34014,\n 33420,\n 49156,\n 29334,\n 45655,\n 4481,\n 39684,\n 7356,\n 6987,\n 48651,\n 48229,\n 17773,\n 27508,\n 54452,\n 51519,\n 54504,\n 5009,\n 29845,\n 39408,\n 52127,\n 32036,\n 55805,\n ...]"
     },
     "execution_count": 104,
     "metadata": {},
     "output_type": "execute_result"
    }
   ],
   "source": [
    "sorted_predicted_ids"
   ],
   "metadata": {
    "collapsed": false,
    "pycharm": {
     "name": "#%%\n"
    }
   }
  },
  {
   "cell_type": "code",
   "execution_count": 109,
   "outputs": [],
   "source": [
    "recommended = [sample_inverse_mapping[a] for a in sorted_predicted_ids[:1000] if a in sample_inverse_mapping.keys()]\n",
    "# sample_inverse_mapping[sorted_predicted_ids[0]]\n",
    "\n",
    "if list_medias[80] in recommended:\n",
    "    print('yes')"
   ],
   "metadata": {
    "collapsed": false,
    "pycharm": {
     "name": "#%%\n"
    }
   }
  },
  {
   "cell_type": "code",
   "execution_count": 108,
   "outputs": [
    {
     "data": {
      "text/plain": "15075139"
     },
     "execution_count": 108,
     "metadata": {},
     "output_type": "execute_result"
    }
   ],
   "source": [
    "list_medias[80]"
   ],
   "metadata": {
    "collapsed": false,
    "pycharm": {
     "name": "#%%\n"
    }
   }
  },
  {
   "cell_type": "code",
   "execution_count": 2,
   "id": "6c3875a0-67da-48d9-a565-58cd855c65b4",
   "metadata": {
    "pycharm": {
     "name": "#%%\n"
    }
   },
   "outputs": [
    {
     "ename": "NameError",
     "evalue": "name 'map_column' is not defined",
     "output_type": "error",
     "traceback": [
      "\u001B[0;31m---------------------------------------------------------------------------\u001B[0m",
      "\u001B[0;31mNameError\u001B[0m                                 Traceback (most recent call last)",
      "\u001B[0;32m/tmp/ipykernel_99/1756759025.py\u001B[0m in \u001B[0;36m<cell line: 1>\u001B[0;34m()\u001B[0m\n\u001B[0;32m----> 1\u001B[0;31m \u001B[0mdata\u001B[0m\u001B[0;34m,\u001B[0m \u001B[0mmapping\u001B[0m\u001B[0;34m,\u001B[0m \u001B[0minverse_mapping\u001B[0m \u001B[0;34m=\u001B[0m \u001B[0mmap_column\u001B[0m\u001B[0;34m(\u001B[0m\u001B[0mdata\u001B[0m\u001B[0;34m,\u001B[0m \u001B[0mcol_name\u001B[0m\u001B[0;34m=\u001B[0m\u001B[0;34m\"media_id\"\u001B[0m\u001B[0;34m)\u001B[0m\u001B[0;34m\u001B[0m\u001B[0;34m\u001B[0m\u001B[0m\n\u001B[0m",
      "\u001B[0;31mNameError\u001B[0m: name 'map_column' is not defined"
     ]
    }
   ],
   "source": [
    "data, mapping, inverse_mapping = map_column(data, col_name=\"media_id\")"
   ]
  },
  {
   "cell_type": "code",
   "execution_count": 1,
   "id": "bf320510-0a0b-4895-a4a3-f8bc4fbfa82f",
   "metadata": {
    "pycharm": {
     "name": "#%%\n"
    }
   },
   "outputs": [
    {
     "ename": "NameError",
     "evalue": "name 'mapping' is not defined",
     "output_type": "error",
     "traceback": [
      "\u001B[0;31m---------------------------------------------------------------------------\u001B[0m",
      "\u001B[0;31mNameError\u001B[0m                                 Traceback (most recent call last)",
      "\u001B[0;32m/tmp/ipykernel_99/2521852306.py\u001B[0m in \u001B[0;36m<cell line: 1>\u001B[0;34m()\u001B[0m\n\u001B[0;32m----> 1\u001B[0;31m \u001B[0mmapping\u001B[0m\u001B[0;34m[\u001B[0m\u001B[0;36m206493\u001B[0m\u001B[0;34m]\u001B[0m\u001B[0;34m\u001B[0m\u001B[0;34m\u001B[0m\u001B[0m\n\u001B[0m",
      "\u001B[0;31mNameError\u001B[0m: name 'mapping' is not defined"
     ]
    }
   ],
   "source": [
    "mapping[206493]"
   ]
  },
  {
   "cell_type": "code",
   "execution_count": 5,
   "id": "d3efcc8c-03f2-4241-b9e8-60b61fd79053",
   "metadata": {
    "pycharm": {
     "name": "#%%\n"
    }
   },
   "outputs": [],
   "source": [
    "# data.query(f\"media_id=={inverse_mapping[36474]}\")\n",
    "\n",
    "# data.query(f\"user_id==[88,11]\").media_id_mapped.unique()\n"
   ]
  },
  {
   "cell_type": "code",
   "execution_count": 6,
   "id": "2d48e3c5-fa38-4d4e-834b-31c0f6325d0c",
   "metadata": {
    "pycharm": {
     "name": "#%%\n"
    }
   },
   "outputs": [],
   "source": [
    "# sorted_predicted_ids[:30]"
   ]
  }
 ],
 "metadata": {
  "kernelspec": {
   "name": "python3",
   "language": "python",
   "display_name": "Python 3 (ipykernel)"
  },
  "language_info": {
   "codemirror_mode": {
    "name": "ipython",
    "version": 3
   },
   "file_extension": ".py",
   "mimetype": "text/x-python",
   "name": "python",
   "nbconvert_exporter": "python",
   "pygments_lexer": "ipython3",
   "version": "3.9.13"
  }
 },
 "nbformat": 4,
 "nbformat_minor": 5
}