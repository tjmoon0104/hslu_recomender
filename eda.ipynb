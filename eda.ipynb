{
 "cells": [
  {
   "cell_type": "code",
   "execution_count": 1,
   "metadata": {
    "collapsed": true,
    "pycharm": {
     "name": "#%%\n"
    }
   },
   "outputs": [],
   "source": [
    "import pandas as pd"
   ]
  },
  {
   "cell_type": "code",
   "execution_count": 2,
   "outputs": [],
   "source": [
    "df1 = pd.read_csv('data/train.csv')\n",
    "df2 = pd.read_csv('data/test.csv')"
   ],
   "metadata": {
    "collapsed": false,
    "pycharm": {
     "name": "#%%\n"
    }
   }
  },
  {
   "cell_type": "code",
   "execution_count": 3,
   "outputs": [
    {
     "data": {
      "text/plain": "         user_id   media_id  is_listened   ts_listen\n0           9241     222606            0  1480597215\n1          16547     250467            1  1480544735\n2           7665     305197            1  1479563953\n3           1580     900502            0  1480152098\n4           1812     542335            1  1478368974\n...          ...        ...          ...         ...\n7558134      551  135563248            1  1478537435\n7558339       51  136334560            1  1480327937\n7558434     1089  136334560            1  1480179667\n7558539     7599  136334560            1  1479581135\n7558648       65  136334560            1  1480206381\n\n[23197 rows x 4 columns]",
      "text/html": "<div>\n<style scoped>\n    .dataframe tbody tr th:only-of-type {\n        vertical-align: middle;\n    }\n\n    .dataframe tbody tr th {\n        vertical-align: top;\n    }\n\n    .dataframe thead th {\n        text-align: right;\n    }\n</style>\n<table border=\"1\" class=\"dataframe\">\n  <thead>\n    <tr style=\"text-align: right;\">\n      <th></th>\n      <th>user_id</th>\n      <th>media_id</th>\n      <th>is_listened</th>\n      <th>ts_listen</th>\n    </tr>\n  </thead>\n  <tbody>\n    <tr>\n      <th>0</th>\n      <td>9241</td>\n      <td>222606</td>\n      <td>0</td>\n      <td>1480597215</td>\n    </tr>\n    <tr>\n      <th>1</th>\n      <td>16547</td>\n      <td>250467</td>\n      <td>1</td>\n      <td>1480544735</td>\n    </tr>\n    <tr>\n      <th>2</th>\n      <td>7665</td>\n      <td>305197</td>\n      <td>1</td>\n      <td>1479563953</td>\n    </tr>\n    <tr>\n      <th>3</th>\n      <td>1580</td>\n      <td>900502</td>\n      <td>0</td>\n      <td>1480152098</td>\n    </tr>\n    <tr>\n      <th>4</th>\n      <td>1812</td>\n      <td>542335</td>\n      <td>1</td>\n      <td>1478368974</td>\n    </tr>\n    <tr>\n      <th>...</th>\n      <td>...</td>\n      <td>...</td>\n      <td>...</td>\n      <td>...</td>\n    </tr>\n    <tr>\n      <th>7558134</th>\n      <td>551</td>\n      <td>135563248</td>\n      <td>1</td>\n      <td>1478537435</td>\n    </tr>\n    <tr>\n      <th>7558339</th>\n      <td>51</td>\n      <td>136334560</td>\n      <td>1</td>\n      <td>1480327937</td>\n    </tr>\n    <tr>\n      <th>7558434</th>\n      <td>1089</td>\n      <td>136334560</td>\n      <td>1</td>\n      <td>1480179667</td>\n    </tr>\n    <tr>\n      <th>7558539</th>\n      <td>7599</td>\n      <td>136334560</td>\n      <td>1</td>\n      <td>1479581135</td>\n    </tr>\n    <tr>\n      <th>7558648</th>\n      <td>65</td>\n      <td>136334560</td>\n      <td>1</td>\n      <td>1480206381</td>\n    </tr>\n  </tbody>\n</table>\n<p>23197 rows × 4 columns</p>\n</div>"
     },
     "execution_count": 3,
     "metadata": {},
     "output_type": "execute_result"
    }
   ],
   "source": [
    "sample_user_ids = df1.user_id.unique()[:20].tolist()\n",
    "use_col = ['user_id','media_id','is_listened','ts_listen']\n",
    "\n",
    "df1[use_col].query(f'user_id=={sample_user_ids}')#.to_csv('data/sample_train.csv', index=False)"
   ],
   "metadata": {
    "collapsed": false,
    "pycharm": {
     "name": "#%%\n"
    }
   }
  },
  {
   "cell_type": "code",
   "execution_count": 5,
   "outputs": [
    {
     "data": {
      "text/plain": "         sample_id  genre_id  ts_listen  media_id  album_id  context_type  \\\nuser_id                                                                     \n0                1         1          1         1         1             1   \n1                1         1          1         1         1             1   \n2                1         1          1         1         1             1   \n3                1         1          1         1         1             1   \n4                1         1          1         1         1             1   \n...            ...       ...        ...       ...       ...           ...   \n19913            1         1          1         1         1             1   \n19914            1         1          1         1         1             1   \n19915            1         1          1         1         1             1   \n19916            1         1          1         1         1             1   \n19917            1         1          1         1         1             1   \n\n         release_date  platform_name  platform_family  media_duration  \\\nuser_id                                                                 \n0                   1              1                1               1   \n1                   1              1                1               1   \n2                   1              1                1               1   \n3                   1              1                1               1   \n4                   1              1                1               1   \n...               ...            ...              ...             ...   \n19913               1              1                1               1   \n19914               1              1                1               1   \n19915               1              1                1               1   \n19916               1              1                1               1   \n19917               1              1                1               1   \n\n         listen_type  user_gender  artist_id  user_age  \nuser_id                                                 \n0                  1            1          1         1  \n1                  1            1          1         1  \n2                  1            1          1         1  \n3                  1            1          1         1  \n4                  1            1          1         1  \n...              ...          ...        ...       ...  \n19913              1            1          1         1  \n19914              1            1          1         1  \n19915              1            1          1         1  \n19916              1            1          1         1  \n19917              1            1          1         1  \n\n[19918 rows x 14 columns]",
      "text/html": "<div>\n<style scoped>\n    .dataframe tbody tr th:only-of-type {\n        vertical-align: middle;\n    }\n\n    .dataframe tbody tr th {\n        vertical-align: top;\n    }\n\n    .dataframe thead th {\n        text-align: right;\n    }\n</style>\n<table border=\"1\" class=\"dataframe\">\n  <thead>\n    <tr style=\"text-align: right;\">\n      <th></th>\n      <th>sample_id</th>\n      <th>genre_id</th>\n      <th>ts_listen</th>\n      <th>media_id</th>\n      <th>album_id</th>\n      <th>context_type</th>\n      <th>release_date</th>\n      <th>platform_name</th>\n      <th>platform_family</th>\n      <th>media_duration</th>\n      <th>listen_type</th>\n      <th>user_gender</th>\n      <th>artist_id</th>\n      <th>user_age</th>\n    </tr>\n    <tr>\n      <th>user_id</th>\n      <th></th>\n      <th></th>\n      <th></th>\n      <th></th>\n      <th></th>\n      <th></th>\n      <th></th>\n      <th></th>\n      <th></th>\n      <th></th>\n      <th></th>\n      <th></th>\n      <th></th>\n      <th></th>\n    </tr>\n  </thead>\n  <tbody>\n    <tr>\n      <th>0</th>\n      <td>1</td>\n      <td>1</td>\n      <td>1</td>\n      <td>1</td>\n      <td>1</td>\n      <td>1</td>\n      <td>1</td>\n      <td>1</td>\n      <td>1</td>\n      <td>1</td>\n      <td>1</td>\n      <td>1</td>\n      <td>1</td>\n      <td>1</td>\n    </tr>\n    <tr>\n      <th>1</th>\n      <td>1</td>\n      <td>1</td>\n      <td>1</td>\n      <td>1</td>\n      <td>1</td>\n      <td>1</td>\n      <td>1</td>\n      <td>1</td>\n      <td>1</td>\n      <td>1</td>\n      <td>1</td>\n      <td>1</td>\n      <td>1</td>\n      <td>1</td>\n    </tr>\n    <tr>\n      <th>2</th>\n      <td>1</td>\n      <td>1</td>\n      <td>1</td>\n      <td>1</td>\n      <td>1</td>\n      <td>1</td>\n      <td>1</td>\n      <td>1</td>\n      <td>1</td>\n      <td>1</td>\n      <td>1</td>\n      <td>1</td>\n      <td>1</td>\n      <td>1</td>\n    </tr>\n    <tr>\n      <th>3</th>\n      <td>1</td>\n      <td>1</td>\n      <td>1</td>\n      <td>1</td>\n      <td>1</td>\n      <td>1</td>\n      <td>1</td>\n      <td>1</td>\n      <td>1</td>\n      <td>1</td>\n      <td>1</td>\n      <td>1</td>\n      <td>1</td>\n      <td>1</td>\n    </tr>\n    <tr>\n      <th>4</th>\n      <td>1</td>\n      <td>1</td>\n      <td>1</td>\n      <td>1</td>\n      <td>1</td>\n      <td>1</td>\n      <td>1</td>\n      <td>1</td>\n      <td>1</td>\n      <td>1</td>\n      <td>1</td>\n      <td>1</td>\n      <td>1</td>\n      <td>1</td>\n    </tr>\n    <tr>\n      <th>...</th>\n      <td>...</td>\n      <td>...</td>\n      <td>...</td>\n      <td>...</td>\n      <td>...</td>\n      <td>...</td>\n      <td>...</td>\n      <td>...</td>\n      <td>...</td>\n      <td>...</td>\n      <td>...</td>\n      <td>...</td>\n      <td>...</td>\n      <td>...</td>\n    </tr>\n    <tr>\n      <th>19913</th>\n      <td>1</td>\n      <td>1</td>\n      <td>1</td>\n      <td>1</td>\n      <td>1</td>\n      <td>1</td>\n      <td>1</td>\n      <td>1</td>\n      <td>1</td>\n      <td>1</td>\n      <td>1</td>\n      <td>1</td>\n      <td>1</td>\n      <td>1</td>\n    </tr>\n    <tr>\n      <th>19914</th>\n      <td>1</td>\n      <td>1</td>\n      <td>1</td>\n      <td>1</td>\n      <td>1</td>\n      <td>1</td>\n      <td>1</td>\n      <td>1</td>\n      <td>1</td>\n      <td>1</td>\n      <td>1</td>\n      <td>1</td>\n      <td>1</td>\n      <td>1</td>\n    </tr>\n    <tr>\n      <th>19915</th>\n      <td>1</td>\n      <td>1</td>\n      <td>1</td>\n      <td>1</td>\n      <td>1</td>\n      <td>1</td>\n      <td>1</td>\n      <td>1</td>\n      <td>1</td>\n      <td>1</td>\n      <td>1</td>\n      <td>1</td>\n      <td>1</td>\n      <td>1</td>\n    </tr>\n    <tr>\n      <th>19916</th>\n      <td>1</td>\n      <td>1</td>\n      <td>1</td>\n      <td>1</td>\n      <td>1</td>\n      <td>1</td>\n      <td>1</td>\n      <td>1</td>\n      <td>1</td>\n      <td>1</td>\n      <td>1</td>\n      <td>1</td>\n      <td>1</td>\n      <td>1</td>\n    </tr>\n    <tr>\n      <th>19917</th>\n      <td>1</td>\n      <td>1</td>\n      <td>1</td>\n      <td>1</td>\n      <td>1</td>\n      <td>1</td>\n      <td>1</td>\n      <td>1</td>\n      <td>1</td>\n      <td>1</td>\n      <td>1</td>\n      <td>1</td>\n      <td>1</td>\n      <td>1</td>\n    </tr>\n  </tbody>\n</table>\n<p>19918 rows × 14 columns</p>\n</div>"
     },
     "execution_count": 5,
     "metadata": {},
     "output_type": "execute_result"
    }
   ],
   "source": [
    "df2.groupby('user_id').count()"
   ],
   "metadata": {
    "collapsed": false,
    "pycharm": {
     "name": "#%%\n"
    }
   }
  }
 ],
 "metadata": {
  "kernelspec": {
   "display_name": "Python 3",
   "language": "python",
   "name": "python3"
  },
  "language_info": {
   "codemirror_mode": {
    "name": "ipython",
    "version": 2
   },
   "file_extension": ".py",
   "mimetype": "text/x-python",
   "name": "python",
   "nbconvert_exporter": "python",
   "pygments_lexer": "ipython2",
   "version": "2.7.6"
  }
 },
 "nbformat": 4,
 "nbformat_minor": 0
}